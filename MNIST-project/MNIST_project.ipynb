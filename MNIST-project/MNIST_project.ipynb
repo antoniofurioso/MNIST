{
  "nbformat": 4,
  "nbformat_minor": 0,
  "metadata": {
    "colab": {
      "name": "MNIST project.ipynb",
      "provenance": []
    },
    "kernelspec": {
      "name": "python3",
      "display_name": "Python 3"
    }
  },
  "cells": [
    {
      "cell_type": "markdown",
      "metadata": {
        "id": "V9d62PO-nYKo"
      },
      "source": [
        "## MNIST Dataset - Digit recognition"
      ]
    },
    {
      "cell_type": "markdown",
      "metadata": {
        "id": "Gp52gdg2njY4"
      },
      "source": [
        "I'm using this dataset to practice my deep learning skills with Convolutional Neural Network."
      ]
    },
    {
      "cell_type": "code",
      "metadata": {
        "id": "_x0lOuhHnkEV"
      },
      "source": [
        "#importing libreries and dataset\r\n",
        "import numpy as np\r\n",
        "import matplotlib.pyplot as plt\r\n",
        "from PIL import Image\r\n",
        "import tensorflow as tf\r\n",
        "from tensorflow.keras.datasets import mnist"
      ],
      "execution_count": 1,
      "outputs": []
    },
    {
      "cell_type": "code",
      "metadata": {
        "id": "GF4ZUtZynns0"
      },
      "source": [
        "(X_train, Y_train), (X_test, Y_test) = mnist.load_data()"
      ],
      "execution_count": 2,
      "outputs": []
    },
    {
      "cell_type": "markdown",
      "metadata": {
        "id": "a3e5nsL6pB2K"
      },
      "source": [
        "First we see an image and the corresponding label number"
      ]
    },
    {
      "cell_type": "code",
      "metadata": {
        "colab": {
          "base_uri": "https://localhost:8080/",
          "height": 281
        },
        "id": "6V0p6WLFnwVl",
        "outputId": "70516fa2-21ab-4b7a-d388-794bc53c6647"
      },
      "source": [
        "# Example of a picture\r\n",
        "index = 6\r\n",
        "plt.imshow(X_train[index])\r\n",
        "print (\"y = \" + str((Y_train[index])))"
      ],
      "execution_count": 3,
      "outputs": [
        {
          "output_type": "stream",
          "text": [
            "y = 1\n"
          ],
          "name": "stdout"
        },
        {
          "output_type": "display_data",
          "data": {
            "image/png": "[encoded data removed]",
            "text/plain": [
              "<Figure size 432x288 with 1 Axes>"
            ]
          },
          "metadata": {
            "tags": [],
            "needs_background": "light"
          }
        }
      ]
    },
    {
      "cell_type": "markdown",
      "metadata": {
        "id": "EafcmUmOp3vw"
      },
      "source": [
        "## Normalization"
      ]
    },
    {
      "cell_type": "code",
      "metadata": {
        "colab": {
          "base_uri": "https://localhost:8080/"
        },
        "id": "O47Jso4Hp6g1",
        "outputId": "7c656a85-0a2c-4ce6-ef4d-ba6391c54573"
      },
      "source": [
        "#Normalizing data\r\n",
        "X_train = X_train.astype(\"float\")/255.0\r\n",
        "X_test = X_test.astype(\"float\")/255.0\r\n",
        "\r\n",
        "#reshaping\r\n",
        "X_train = X_train.reshape(X_train.shape[0], 28, 28, 1)\r\n",
        "X_test = X_test.reshape(X_test.shape[0], 28, 28, 1)\r\n",
        "\r\n",
        "\r\n",
        "print (\"number of training examples = \" + str(X_train.shape[0]))\r\n",
        "print (\"number of test examples = \" + str(X_test.shape[0]))\r\n",
        "print (\"X_train shape: \" + str(X_train.shape))\r\n",
        "print (\"Y_train shape: \" + str(Y_train.shape))\r\n",
        "print (\"X_test shape: \" + str(X_test.shape))\r\n",
        "print (\"Y_test shape: \" + str(Y_test.shape))"
      ],
      "execution_count": 4,
      "outputs": [
        {
          "output_type": "stream",
          "text": [
            "number of training examples = 60000\n",
            "number of test examples = 10000\n",
            "X_train shape: (60000, 28, 28, 1)\n",
            "Y_train shape: (60000,)\n",
            "X_test shape: (10000, 28, 28, 1)\n",
            "Y_test shape: (10000,)\n"
          ],
          "name": "stdout"
        }
      ]
    },
    {
      "cell_type": "markdown",
      "metadata": {
        "id": "sRCbEHLiuNzT"
      },
      "source": [
        "## Build CNN"
      ]
    },
    {
      "cell_type": "code",
      "metadata": {
        "id": "4xXJQAl-uRhl"
      },
      "source": [
        "#import\r\n",
        "from keras.models import Sequential\r\n",
        "from keras.layers import Dense, Dropout, Flatten, Conv2D, MaxPool2D\r\n",
        "from keras.preprocessing.image import ImageDataGenerator\r\n",
        "from keras.callbacks import History"
      ],
      "execution_count": 5,
      "outputs": []
    },
    {
      "cell_type": "markdown",
      "metadata": {
        "id": "YiqRy0ccwLm4"
      },
      "source": [
        "### Building our model"
      ]
    },
    {
      "cell_type": "code",
      "metadata": {
        "id": "tk5eOrwuwKxY"
      },
      "source": [
        "model = Sequential()\r\n",
        "model.add(Conv2D(filters = 36, kernel_size = (3,3),activation ='relu', input_shape = (28,28,1)))\r\n",
        "model.add(MaxPool2D(pool_size=(3,3)))\r\n",
        "model.add(Flatten()) # Flattening the 2D arrays for fully connected layers\r\n",
        "model.add(Dense(128, activation='relu'))\r\n",
        "model.add(Dropout(0.2))\r\n",
        "model.add(Dense(10,activation='softmax'))"
      ],
      "execution_count": 6,
      "outputs": []
    },
    {
      "cell_type": "code",
      "metadata": {
        "colab": {
          "base_uri": "https://localhost:8080/"
        },
        "id": "ooyiB38d3dZz",
        "outputId": "936a6a6e-0c58-4f90-b19f-9a69ed8be736"
      },
      "source": [
        "model.compile(optimizer='adam', loss='sparse_categorical_crossentropy', metrics=['accuracy'])\r\n",
        "history = model.fit(x=X_train,y=Y_train, epochs=10)"
      ],
      "execution_count": 7,
      "outputs": [
        {
          "output_type": "stream",
          "text": [
            "Epoch 1/10\n",
            "1875/1875 [==============================] - 29s 15ms/step - loss: 0.3858 - accuracy: 0.8823\n",
            "Epoch 2/10\n",
            "1875/1875 [==============================] - 28s 15ms/step - loss: 0.0706 - accuracy: 0.9781\n",
            "Epoch 3/10\n",
            "1875/1875 [==============================] - 28s 15ms/step - loss: 0.0502 - accuracy: 0.9852\n",
            "Epoch 4/10\n",
            "1875/1875 [==============================] - 28s 15ms/step - loss: 0.0385 - accuracy: 0.9884\n",
            "Epoch 5/10\n",
            "1875/1875 [==============================] - 28s 15ms/step - loss: 0.0292 - accuracy: 0.9909\n",
            "Epoch 6/10\n",
            "1875/1875 [==============================] - 29s 15ms/step - loss: 0.0254 - accuracy: 0.9921\n",
            "Epoch 7/10\n",
            "1875/1875 [==============================] - 28s 15ms/step - loss: 0.0217 - accuracy: 0.9931\n",
            "Epoch 8/10\n",
            "1875/1875 [==============================] - 28s 15ms/step - loss: 0.0180 - accuracy: 0.9939\n",
            "Epoch 9/10\n",
            "1875/1875 [==============================] - 28s 15ms/step - loss: 0.0139 - accuracy: 0.9953\n",
            "Epoch 10/10\n",
            "1875/1875 [==============================] - 28s 15ms/step - loss: 0.0122 - accuracy: 0.9960\n"
          ],
          "name": "stdout"
        }
      ]
    },
    {
      "cell_type": "code",
      "metadata": {
        "colab": {
          "base_uri": "https://localhost:8080/",
          "height": 573
        },
        "id": "gdNEFxW_4NP2",
        "outputId": "b2275c32-bf89-49af-8721-7adf12545cc2"
      },
      "source": [
        "# summarize history for accuracy\r\n",
        "plt.plot(history.history['accuracy'])\r\n",
        "plt.title('model accuracy')\r\n",
        "plt.ylabel('accuracy')\r\n",
        "plt.xlabel('epoch')\r\n",
        "plt.show()\r\n",
        "# summarize history for loss\r\n",
        "plt.plot(history.history['loss'])\r\n",
        "plt.title('model loss')\r\n",
        "plt.ylabel('loss')\r\n",
        "plt.xlabel('epoch')\r\n",
        "plt.show()"
      ],
      "execution_count": 49,
      "outputs": [
        {
          "output_type": "display_data",
          "data": {
            "image/png": "[encoded data removed]",
            "text/plain": [
              "<Figure size 432x288 with 1 Axes>"
            ]
          },
          "metadata": {
            "tags": [],
            "needs_background": "light"
          }
        },
        {
          "output_type": "display_data",
          "data": {
            "image/png": "[encoded data removed]",
            "text/plain": [
              "<Figure size 432x288 with 1 Axes>"
            ]
          },
          "metadata": {
            "tags": [],
            "needs_background": "light"
          }
        }
      ]
    },
    {
      "cell_type": "code",
      "metadata": {
        "colab": {
          "base_uri": "https://localhost:8080/"
        },
        "id": "8h2BpE5X67DA",
        "outputId": "4457becc-cb72-4f7c-d641-2bf91ff2e035"
      },
      "source": [
        "model.summary()"
      ],
      "execution_count": 50,
      "outputs": [
        {
          "output_type": "stream",
          "text": [
            "Model: \"sequential\"\n",
            "_________________________________________________________________\n",
            "Layer (type)                 Output Shape              Param #   \n",
            "=================================================================\n",
            "conv2d (Conv2D)              (None, 26, 26, 36)        360       \n",
            "_________________________________________________________________\n",
            "max_pooling2d (MaxPooling2D) (None, 8, 8, 36)          0         \n",
            "_________________________________________________________________\n",
            "flatten (Flatten)            (None, 2304)              0         \n",
            "_________________________________________________________________\n",
            "dense (Dense)                (None, 128)               295040    \n",
            "_________________________________________________________________\n",
            "dropout (Dropout)            (None, 128)               0         \n",
            "_________________________________________________________________\n",
            "dense_1 (Dense)              (None, 10)                1290      \n",
            "=================================================================\n",
            "Total params: 296,690\n",
            "Trainable params: 296,690\n",
            "Non-trainable params: 0\n",
            "_________________________________________________________________\n"
          ],
          "name": "stdout"
        }
      ]
    },
    {
      "cell_type": "code",
      "metadata": {
        "colab": {
          "base_uri": "https://localhost:8080/"
        },
        "id": "zF3GkcoiDeK7",
        "outputId": "aa3d511b-bcdd-405f-d294-3756f623c2ff"
      },
      "source": [
        "model.evaluate(X_test, Y_test)"
      ],
      "execution_count": 51,
      "outputs": [
        {
          "output_type": "stream",
          "text": [
            "313/313 [==============================] - 2s 6ms/step - loss: 0.0324 - accuracy: 0.9905\n"
          ],
          "name": "stdout"
        },
        {
          "output_type": "execute_result",
          "data": {
            "text/plain": [
              "[0.032393164932727814, 0.9904999732971191]"
            ]
          },
          "metadata": {
            "tags": []
          },
          "execution_count": 51
        }
      ]
    },
    {
      "cell_type": "code",
      "metadata": {
        "colab": {
          "base_uri": "https://localhost:8080/",
          "height": 298
        },
        "id": "DBhb78c19RSW",
        "outputId": "bd034da4-3eb1-4349-c41b-59f9980a6e31"
      },
      "source": [
        "image_index = int(input('Insert number: '))\r\n",
        "plt.imshow(X_test[image_index].reshape(28, 28),cmap='Greys')\r\n",
        "pred = model.predict(X_test[image_index].reshape(1, 28, 28, 1))\r\n",
        "print('The number is = ' + str(pred.argmax()))"
      ],
      "execution_count": 55,
      "outputs": [
        {
          "output_type": "stream",
          "text": [
            "Insert number: 9999\n",
            "The number is = 6\n"
          ],
          "name": "stdout"
        },
        {
          "output_type": "display_data",
          "data": {
            "image/png": "[encoded data removed]",
            "text/plain": [
              "<Figure size 432x288 with 1 Axes>"
            ]
          },
          "metadata": {
            "tags": [],
            "needs_background": "light"
          }
        }
      ]
    }
  ]
}